{
 "cells": [
  {
   "cell_type": "code",
   "execution_count": 4,
   "metadata": {},
   "outputs": [],
   "source": [
    "import sys\n",
    "import scipy\n",
    "import sklearn\n",
    "import numpy as np\n",
    "import pandas as pd\n",
    "import matplotlib.pyplot as plt\n",
    "import seaborn as sns"
   ]
  },
  {
   "cell_type": "code",
   "execution_count": 35,
   "metadata": {},
   "outputs": [],
   "source": [
    "#loading dataset\n",
    "data = pd.read_csv('creditcard.csv')"
   ]
  },
  {
   "cell_type": "code",
   "execution_count": 36,
   "metadata": {},
   "outputs": [],
   "source": [
    "#outlier fraud cases fraction determination\n",
    "fraud_cases = data[data['Class'] == 1]\n",
    "normal_cases = data[data['Class'] == 0]\n",
    "fraud_fraction = len(fraud_cases) / float(len(normal_cases))"
   ]
  },
  {
   "cell_type": "code",
   "execution_count": 37,
   "metadata": {},
   "outputs": [
    {
     "data": {
      "text/plain": [
       "<matplotlib.axes._subplots.AxesSubplot at 0x7f9bc78f8898>"
      ]
     },
     "execution_count": 37,
     "metadata": {},
     "output_type": "execute_result"
    },
    {
     "data": {
      "image/png": "[encoded data removed]",
      "text/plain": [
       "<Figure size 432x288 with 2 Axes>"
      ]
     },
     "metadata": {},
     "output_type": "display_data"
    }
   ],
   "source": [
    "#correlation matrix\n",
    "correlation_matrix = data.corr()\n",
    "sns.heatmap (correlation_matrix)"
   ]
  },
  {
   "cell_type": "code",
   "execution_count": 38,
   "metadata": {},
   "outputs": [],
   "source": [
    "#separating data set\n",
    "columns = data.columns.tolist()\n",
    "columns = [c for c in columns if c not in [\"Class\"]]\n",
    "target = \"Class\"\n",
    "X = data[columns]\n",
    "Y = data[\"Class\"]"
   ]
  },
  {
   "cell_type": "code",
   "execution_count": 39,
   "metadata": {},
   "outputs": [],
   "source": [
    "from sklearn.metrics import classification_report, accuracy_score\n",
    "from sklearn.ensemble import IsolationForest\n",
    "from sklearn.neighbors  import LocalOutlierFactor\n",
    "\n",
    "#defining states\n",
    "state = 1\n",
    "\n",
    "#defining outlier detection methods\n",
    "classifiers = {\n",
    "    \"Isolation Forest\" : IsolationForest(max_samples = len(X), contamination = fraud_fraction, random_state = state),\n",
    "    \n",
    "    \"Local Outlier Factor\" : LocalOutlierFactor(n_neighbors = 20, contamination = fraud_fraction)\n",
    "}"
   ]
  },
  {
   "cell_type": "code",
   "execution_count": null,
   "metadata": {},
   "outputs": [],
   "source": [
    "#model fitting\n",
    "for i, (classifier_name, classifier) in enumerate(classifiers.items()):\n",
    "    if classifier_name == \"Local Outlier Factor\":\n",
    "        y_prediction = classifier.fit_predict(X)\n",
    "        score_prediction = classifier.negative_outlier_factor_\n",
    "    else:\n",
    "        classifier.fit(X)\n",
    "        score_prediction = classifier.decision_function(X)\n",
    "        y_prediction = classifier.predict(X)\n",
    "        \n",
    "    #changing the prediction values to 0 and 1(fraudulent)\n",
    "    y_prediction[y_prediction == 1] = 0\n",
    "    y_prediction[y_prediction == -1] = 1\n",
    "        \n",
    "    n_errors = (y_prediction != Y).sum()\n",
    "        \n",
    "    #classification metrics\n",
    "    print ('{} : {}'.format(classifier_name, n_errors))\n",
    "    print (accuracy_score(Y, y_prediction))\n",
    "    print (classification_report(Y, y_prediction))"
   ]
  },
  {
   "cell_type": "code",
   "execution_count": null,
   "metadata": {},
   "outputs": [],
   "source": []
  }
 ],
 "metadata": {
  "kernelspec": {
   "display_name": "Python 3",
   "language": "python",
   "name": "python3"
  },
  "language_info": {
   "codemirror_mode": {
    "name": "ipython",
    "version": 3
   },
   "file_extension": ".py",
   "mimetype": "text/x-python",
   "name": "python",
   "nbconvert_exporter": "python",
   "pygments_lexer": "ipython3",
   "version": "3.6.5"
  }
 },
 "nbformat": 4,
 "nbformat_minor": 2
}
